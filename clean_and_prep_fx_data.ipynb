{
  "nbformat": 4,
  "nbformat_minor": 0,
  "metadata": {
    "colab": {
      "name": "clean_and_prep_fx_data.ipynb",
      "version": "0.3.2",
      "provenance": []
    },
    "kernelspec": {
      "name": "python3",
      "display_name": "Python 3"
    }
  },
  "cells": [
    {
      "cell_type": "code",
      "metadata": {
        "id": "TaqsLWbzI6CG",
        "colab_type": "code",
        "colab": {}
      },
      "source": [
        "import pandas as pd\n",
        "import numpy as np\n",
        "from google.colab import files"
      ],
      "execution_count": 0,
      "outputs": []
    },
    {
      "cell_type": "code",
      "metadata": {
        "id": "TGdzNWXmJEpP",
        "colab_type": "code",
        "colab": {
          "base_uri": "https://localhost:8080/",
          "height": 195
        },
        "outputId": "eecd013f-6564-4215-de63-4a25435cf8d2"
      },
      "source": [
        "fx = pd.read_csv('https://raw.githubusercontent.com/AndrewMarksArt/DS-Unit-1-Sprint-5-Data-Storytelling-Blog-Post/master/historical_fx_rates.csv')\n",
        "fx.head()"
      ],
      "execution_count": 2,
      "outputs": [
        {
          "output_type": "execute_result",
          "data": {
            "text/html": [
              "<div>\n",
              "<style scoped>\n",
              "    .dataframe tbody tr th:only-of-type {\n",
              "        vertical-align: middle;\n",
              "    }\n",
              "\n",
              "    .dataframe tbody tr th {\n",
              "        vertical-align: top;\n",
              "    }\n",
              "\n",
              "    .dataframe thead th {\n",
              "        text-align: right;\n",
              "    }\n",
              "</style>\n",
              "<table border=\"1\" class=\"dataframe\">\n",
              "  <thead>\n",
              "    <tr style=\"text-align: right;\">\n",
              "      <th></th>\n",
              "      <th>DATE</th>\n",
              "      <th>DEXCHUS</th>\n",
              "      <th>DEXDNUS</th>\n",
              "      <th>DEXHKUS</th>\n",
              "      <th>DEXJPUS</th>\n",
              "      <th>DEXKOUS</th>\n",
              "      <th>DEXMXUS</th>\n",
              "      <th>DEXNOUS</th>\n",
              "      <th>DEXSDUS</th>\n",
              "      <th>DEXSIUS</th>\n",
              "      <th>DEXSZUS</th>\n",
              "      <th>DEXTAUS</th>\n",
              "      <th>DEXUSAL</th>\n",
              "      <th>DEXUSEU</th>\n",
              "      <th>DEXUSNZ</th>\n",
              "      <th>DEXUSUK</th>\n",
              "    </tr>\n",
              "  </thead>\n",
              "  <tbody>\n",
              "    <tr>\n",
              "      <th>0</th>\n",
              "      <td>1971-01-04</td>\n",
              "      <td>NaN</td>\n",
              "      <td>7.4850</td>\n",
              "      <td>NaN</td>\n",
              "      <td>357.73</td>\n",
              "      <td>NaN</td>\n",
              "      <td>NaN</td>\n",
              "      <td>7.1359</td>\n",
              "      <td>5.1643</td>\n",
              "      <td>NaN</td>\n",
              "      <td>4.3180</td>\n",
              "      <td>NaN</td>\n",
              "      <td>1.1127</td>\n",
              "      <td>NaN</td>\n",
              "      <td>1.1138</td>\n",
              "      <td>2.3938</td>\n",
              "    </tr>\n",
              "    <tr>\n",
              "      <th>1</th>\n",
              "      <td>1971-01-05</td>\n",
              "      <td>NaN</td>\n",
              "      <td>7.4872</td>\n",
              "      <td>NaN</td>\n",
              "      <td>357.81</td>\n",
              "      <td>NaN</td>\n",
              "      <td>NaN</td>\n",
              "      <td>7.1422</td>\n",
              "      <td>5.1628</td>\n",
              "      <td>NaN</td>\n",
              "      <td>4.3117</td>\n",
              "      <td>NaN</td>\n",
              "      <td>1.1132</td>\n",
              "      <td>NaN</td>\n",
              "      <td>1.1143</td>\n",
              "      <td>2.3949</td>\n",
              "    </tr>\n",
              "    <tr>\n",
              "      <th>2</th>\n",
              "      <td>1971-01-06</td>\n",
              "      <td>NaN</td>\n",
              "      <td>7.4839</td>\n",
              "      <td>NaN</td>\n",
              "      <td>357.86</td>\n",
              "      <td>NaN</td>\n",
              "      <td>NaN</td>\n",
              "      <td>7.1367</td>\n",
              "      <td>5.1614</td>\n",
              "      <td>NaN</td>\n",
              "      <td>4.3113</td>\n",
              "      <td>NaN</td>\n",
              "      <td>1.1140</td>\n",
              "      <td>NaN</td>\n",
              "      <td>1.1151</td>\n",
              "      <td>2.3967</td>\n",
              "    </tr>\n",
              "    <tr>\n",
              "      <th>3</th>\n",
              "      <td>1971-01-07</td>\n",
              "      <td>NaN</td>\n",
              "      <td>7.4850</td>\n",
              "      <td>NaN</td>\n",
              "      <td>357.87</td>\n",
              "      <td>NaN</td>\n",
              "      <td>NaN</td>\n",
              "      <td>7.1386</td>\n",
              "      <td>5.1649</td>\n",
              "      <td>NaN</td>\n",
              "      <td>4.3103</td>\n",
              "      <td>NaN</td>\n",
              "      <td>1.1138</td>\n",
              "      <td>NaN</td>\n",
              "      <td>1.1150</td>\n",
              "      <td>2.3963</td>\n",
              "    </tr>\n",
              "    <tr>\n",
              "      <th>4</th>\n",
              "      <td>1971-01-08</td>\n",
              "      <td>NaN</td>\n",
              "      <td>7.4850</td>\n",
              "      <td>NaN</td>\n",
              "      <td>357.82</td>\n",
              "      <td>NaN</td>\n",
              "      <td>NaN</td>\n",
              "      <td>7.1382</td>\n",
              "      <td>5.1631</td>\n",
              "      <td>NaN</td>\n",
              "      <td>4.3109</td>\n",
              "      <td>NaN</td>\n",
              "      <td>1.1124</td>\n",
              "      <td>NaN</td>\n",
              "      <td>1.1154</td>\n",
              "      <td>2.3972</td>\n",
              "    </tr>\n",
              "  </tbody>\n",
              "</table>\n",
              "</div>"
            ],
            "text/plain": [
              "         DATE  DEXCHUS  DEXDNUS  DEXHKUS  ...  DEXUSAL  DEXUSEU  DEXUSNZ  DEXUSUK\n",
              "0  1971-01-04      NaN   7.4850      NaN  ...   1.1127      NaN   1.1138   2.3938\n",
              "1  1971-01-05      NaN   7.4872      NaN  ...   1.1132      NaN   1.1143   2.3949\n",
              "2  1971-01-06      NaN   7.4839      NaN  ...   1.1140      NaN   1.1151   2.3967\n",
              "3  1971-01-07      NaN   7.4850      NaN  ...   1.1138      NaN   1.1150   2.3963\n",
              "4  1971-01-08      NaN   7.4850      NaN  ...   1.1124      NaN   1.1154   2.3972\n",
              "\n",
              "[5 rows x 16 columns]"
            ]
          },
          "metadata": {
            "tags": []
          },
          "execution_count": 2
        }
      ]
    },
    {
      "cell_type": "code",
      "metadata": {
        "id": "wHefDcMaJJeS",
        "colab_type": "code",
        "colab": {}
      },
      "source": [
        "china = fx[['DATE', 'DEXCHUS']]\n",
        "china['Country'] = 'China'\n",
        "china = china.rename(columns={'DATE': 'Date', 'DEXCHUS': 'Value'})\n",
        "china = china[['Date', 'Country', 'Value']]"
      ],
      "execution_count": 0,
      "outputs": []
    },
    {
      "cell_type": "code",
      "metadata": {
        "id": "-81RRRzXJTMW",
        "colab_type": "code",
        "colab": {}
      },
      "source": [
        "denmark = fx[['DATE', 'DEXDNUS']]\n",
        "denmark['Country'] = 'Denmark'\n",
        "denmark = denmark.rename(columns={'DATE': 'Date', 'DEXDNUS': 'Value'})\n",
        "denmark = denmark[['Date', 'Country', 'Value']]"
      ],
      "execution_count": 0,
      "outputs": []
    },
    {
      "cell_type": "code",
      "metadata": {
        "id": "cWoUwlltJilP",
        "colab_type": "code",
        "colab": {}
      },
      "source": [
        "hong_kong = fx[['DATE', 'DEXHKUS']]\n",
        "hong_kong['Country'] = 'Hong Kong'\n",
        "hong_kong = hong_kong.rename(columns={'DATE': 'Date', 'DEXHKUS': 'Value'})\n",
        "hong_kong = hong_kong[['Date', 'Country', 'Value']]"
      ],
      "execution_count": 0,
      "outputs": []
    },
    {
      "cell_type": "code",
      "metadata": {
        "id": "f0lCbwFnJ5_A",
        "colab_type": "code",
        "colab": {}
      },
      "source": [
        "japan = fx[['DATE', 'DEXJPUS']]\n",
        "japan['Country'] = 'Japan'\n",
        "japan = japan.rename(columns={'DATE': 'Date', 'DEXJPUS': 'Value'})\n",
        "japan = japan[['Date', 'Country', 'Value']]"
      ],
      "execution_count": 0,
      "outputs": []
    },
    {
      "cell_type": "code",
      "metadata": {
        "id": "q-8fdjuuKMKW",
        "colab_type": "code",
        "colab": {}
      },
      "source": [
        "south_korea = fx[['DATE', 'DEXKOUS']]\n",
        "south_korea['Country'] = 'South Korea'\n",
        "south_korea = south_korea.rename(columns={'DATE': 'Date', 'DEXKOUS': 'Value'})\n",
        "south_korea = south_korea[['Date', 'Country', 'Value']]"
      ],
      "execution_count": 0,
      "outputs": []
    },
    {
      "cell_type": "code",
      "metadata": {
        "id": "aoZhRb7NKaK-",
        "colab_type": "code",
        "colab": {}
      },
      "source": [
        "mexico = fx[['DATE', 'DEXMXUS']]\n",
        "mexico['Country'] = 'Mexico'\n",
        "mexico = mexico.rename(columns={'DATE': 'Date', 'DEXMXUS': 'Value'})\n",
        "mexico = mexico[['Date', 'Country', 'Value']]"
      ],
      "execution_count": 0,
      "outputs": []
    },
    {
      "cell_type": "code",
      "metadata": {
        "id": "OxxvMtxMKlBV",
        "colab_type": "code",
        "colab": {}
      },
      "source": [
        "norway = fx[['DATE', 'DEXNOUS']]\n",
        "norway['Country'] = 'Norway'\n",
        "norway = norway.rename(columns={'DATE': 'Date', 'DEXNOUS': 'Value'})\n",
        "norway = norway[['Date', 'Country', 'Value']]"
      ],
      "execution_count": 0,
      "outputs": []
    },
    {
      "cell_type": "code",
      "metadata": {
        "id": "CYcmeB6IK1R-",
        "colab_type": "code",
        "colab": {}
      },
      "source": [
        "sweden = fx[['DATE', 'DEXSDUS']]\n",
        "sweden['Country'] = 'Sweden'\n",
        "sweden = sweden.rename(columns={'DATE': 'Date', 'DEXSDUS': 'Value'})\n",
        "sweden = sweden[['Date', 'Country', 'Value']]"
      ],
      "execution_count": 0,
      "outputs": []
    },
    {
      "cell_type": "code",
      "metadata": {
        "id": "TB1191akLMC1",
        "colab_type": "code",
        "colab": {}
      },
      "source": [
        "singapore = fx[['DATE', 'DEXSIUS']]\n",
        "singapore['Country'] = 'Singapore'\n",
        "singapore = singapore.rename(columns={'DATE': 'Date', 'DEXSIUS': 'Value'})\n",
        "singapore = singapore[['Date', 'Country', 'Value']]"
      ],
      "execution_count": 0,
      "outputs": []
    },
    {
      "cell_type": "code",
      "metadata": {
        "id": "655o1Ng-LWE9",
        "colab_type": "code",
        "colab": {}
      },
      "source": [
        "switzerland = fx[['DATE', 'DEXSZUS']]\n",
        "switzerland['Country'] = 'Switzerland'\n",
        "switzerland = switzerland.rename(columns={'DATE': 'Date', 'DEXSZUS': 'Value'})\n",
        "switzerland = switzerland[['Date', 'Country', 'Value']]"
      ],
      "execution_count": 0,
      "outputs": []
    },
    {
      "cell_type": "code",
      "metadata": {
        "id": "6ye4tZnJLoj9",
        "colab_type": "code",
        "colab": {}
      },
      "source": [
        "taiwan = fx[['DATE', 'DEXTAUS']]\n",
        "taiwan['Country'] = 'Taiwan'\n",
        "taiwan = taiwan.rename(columns={'DATE': 'Date', 'DEXTAUS': 'Value'})\n",
        "taiwan = taiwan[['Date', 'Country', 'Value']]"
      ],
      "execution_count": 0,
      "outputs": []
    },
    {
      "cell_type": "code",
      "metadata": {
        "id": "7IJmKR69L1Qs",
        "colab_type": "code",
        "colab": {}
      },
      "source": [
        "australia = fx[['DATE', 'DEXUSAL']]\n",
        "australia['Country'] = 'Australia'\n",
        "australia = australia.rename(columns={'DATE': 'Date', 'DEXUSAL': 'Value'})\n",
        "australia = australia[['Date', 'Country', 'Value']]"
      ],
      "execution_count": 0,
      "outputs": []
    },
    {
      "cell_type": "code",
      "metadata": {
        "id": "tI6lsec8MDHt",
        "colab_type": "code",
        "colab": {}
      },
      "source": [
        "europe = fx[['DATE', 'DEXUSEU']]\n",
        "europe['Country'] = 'Europe'\n",
        "europe = europe.rename(columns={'DATE': 'Date', 'DEXUSEU': 'Value'})\n",
        "europe = europe[['Date', 'Country', 'Value']]"
      ],
      "execution_count": 0,
      "outputs": []
    },
    {
      "cell_type": "code",
      "metadata": {
        "id": "HLsDqhewMRfM",
        "colab_type": "code",
        "colab": {}
      },
      "source": [
        "new_zealand = fx[['DATE', 'DEXUSNZ']]\n",
        "new_zealand['Country'] = 'New Zealand'\n",
        "new_zealand = new_zealand.rename(columns={'DATE': 'Date', 'DEXUSNZ': 'Value'})\n",
        "new_zealand = new_zealand[['Date', 'Country', 'Value']]"
      ],
      "execution_count": 0,
      "outputs": []
    },
    {
      "cell_type": "code",
      "metadata": {
        "id": "3uTYna6rMg50",
        "colab_type": "code",
        "colab": {}
      },
      "source": [
        "united_kingdom = fx[['DATE', 'DEXUSUK']]\n",
        "united_kingdom['Country'] = 'United Kingdom'\n",
        "united_kingdom = united_kingdom.rename(columns={'DATE': 'Date', 'DEXUSUK': 'Value'})\n",
        "united_kingdom = united_kingdom[['Date', 'Country', 'Value']]"
      ],
      "execution_count": 0,
      "outputs": []
    },
    {
      "cell_type": "code",
      "metadata": {
        "id": "3HlcoG1_Mruc",
        "colab_type": "code",
        "colab": {
          "base_uri": "https://localhost:8080/",
          "height": 34
        },
        "outputId": "5b7a045a-04d3-4687-90eb-f27d90f3c713"
      },
      "source": [
        "results = pd.concat([china, denmark, hong_kong, japan, south_korea, mexico,\n",
        "                     norway, sweden, singapore, switzerland, taiwan, australia,\n",
        "                     europe, new_zealand, united_kingdom])\n",
        "results.shape"
      ],
      "execution_count": 22,
      "outputs": [
        {
          "output_type": "execute_result",
          "data": {
            "text/plain": [
              "(189675, 3)"
            ]
          },
          "metadata": {
            "tags": []
          },
          "execution_count": 22
        }
      ]
    },
    {
      "cell_type": "code",
      "metadata": {
        "id": "V8YEkW2rO2nW",
        "colab_type": "code",
        "colab": {}
      },
      "source": [
        "path = r'C:\\Users\\andre\\additional_fx_data.csv'\n",
        "export_csv = results.to_csv(path, index=None, header=True)"
      ],
      "execution_count": 0,
      "outputs": []
    },
    {
      "cell_type": "code",
      "metadata": {
        "id": "k-6AHzdTU-KW",
        "colab_type": "code",
        "colab": {}
      },
      "source": [
        "files.download('additional_fx_data.csv')"
      ],
      "execution_count": 0,
      "outputs": []
    }
  ]
}